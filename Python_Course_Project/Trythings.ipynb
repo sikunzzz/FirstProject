{
 "cells": [
  {
   "cell_type": "code",
   "execution_count": 2,
   "metadata": {},
   "outputs": [],
   "source": [
    "import myfunc as mf"
   ]
  },
  {
   "cell_type": "code",
   "execution_count": 13,
   "metadata": {},
   "outputs": [
    {
     "data": {
      "text/plain": [
       "1833987328"
      ]
     },
     "execution_count": 13,
     "metadata": {},
     "output_type": "execute_result"
    }
   ],
   "source": [
    "b = mf.myfunc(3,4)\n",
    "id(b)"
   ]
  },
  {
   "cell_type": "code",
   "execution_count": 10,
   "metadata": {},
   "outputs": [
    {
     "data": {
      "text/plain": [
       "1833987328"
      ]
     },
     "execution_count": 10,
     "metadata": {},
     "output_type": "execute_result"
    }
   ],
   "source": [
    "a = eval('mf.myfunc(3,4)')\n",
    "id(a)"
   ]
  },
  {
   "cell_type": "code",
   "execution_count": 14,
   "metadata": {},
   "outputs": [],
   "source": [
    "import re"
   ]
  },
  {
   "cell_type": "code",
   "execution_count": 50,
   "metadata": {},
   "outputs": [],
   "source": [
    "str = \"The rain in Spainxfjf falls mainly in the plain!\"\n",
    "\n",
    "#Check if the string contains \"a\" followed by exactly two \"l\" characters:\n",
    "y = re.findall(\"nxx*\", str)\n",
    "x = re.findall(\"al{2}\", str)"
   ]
  },
  {
   "cell_type": "code",
   "execution_count": 51,
   "metadata": {},
   "outputs": [
    {
     "name": "stdout",
     "output_type": "stream",
     "text": [
      "['all']\n",
      "['nx']\n"
     ]
    }
   ],
   "source": [
    "print(x);print(y)"
   ]
  },
  {
   "cell_type": "code",
   "execution_count": 52,
   "metadata": {},
   "outputs": [
    {
     "name": "stdout",
     "output_type": "stream",
     "text": [
      "[]\n"
     ]
    }
   ],
   "source": [
    "str = \"The rain in Spain\"\n",
    "\n",
    "#Check if \"ain\" is present at the beginning of a WORD:\n",
    "\n",
    "x = re.findall(r\"\\bain\", str)\n",
    "\n",
    "print(x)"
   ]
  },
  {
   "cell_type": "code",
   "execution_count": 59,
   "metadata": {},
   "outputs": [
    {
     "name": "stdout",
     "output_type": "stream",
     "text": [
      "[1, 2, 3, 4]\n"
     ]
    }
   ],
   "source": [
    "a = [1,2,3,4]\n",
    "b = a\n",
    "print(b)\n",
    "b.append(9)"
   ]
  },
  {
   "cell_type": "code",
   "execution_count": 60,
   "metadata": {},
   "outputs": [],
   "source": [
    "b = [6,7]"
   ]
  },
  {
   "cell_type": "code",
   "execution_count": 61,
   "metadata": {},
   "outputs": [
    {
     "name": "stdout",
     "output_type": "stream",
     "text": [
      "[1, 2, 3, 4, 9]\n"
     ]
    }
   ],
   "source": [
    "print(a)"
   ]
  },
  {
   "cell_type": "code",
   "execution_count": 63,
   "metadata": {},
   "outputs": [],
   "source": [
    "import pandas as pd\n",
    "import numpy as np\n",
    "import matplotlib.pyplot as plt"
   ]
  },
  {
   "cell_type": "code",
   "execution_count": 71,
   "metadata": {},
   "outputs": [],
   "source": [
    "data = pd.read_excel(\"USDBRL_TickPrice_0510_0810.xlsx\", index_col = 0)"
   ]
  },
  {
   "cell_type": "code",
   "execution_count": 72,
   "metadata": {},
   "outputs": [
    {
     "data": {
      "text/html": [
       "<div>\n",
       "<style scoped>\n",
       "    .dataframe tbody tr th:only-of-type {\n",
       "        vertical-align: middle;\n",
       "    }\n",
       "\n",
       "    .dataframe tbody tr th {\n",
       "        vertical-align: top;\n",
       "    }\n",
       "\n",
       "    .dataframe thead th {\n",
       "        text-align: right;\n",
       "    }\n",
       "</style>\n",
       "<table border=\"1\" class=\"dataframe\">\n",
       "  <thead>\n",
       "    <tr style=\"text-align: right;\">\n",
       "      <th></th>\n",
       "      <th>Close</th>\n",
       "      <th>Strike</th>\n",
       "      <th>1W Maturity</th>\n",
       "      <th>1M Maturity</th>\n",
       "      <th>3M Maturity</th>\n",
       "      <th>V1W</th>\n",
       "      <th>V1M</th>\n",
       "      <th>V3M</th>\n",
       "      <th>d1_1w</th>\n",
       "      <th>d1_1m</th>\n",
       "      <th>...</th>\n",
       "      <th>Net_Delta_1M</th>\n",
       "      <th>Net_Delta_3M</th>\n",
       "      <th>No_of_Contracts_1W</th>\n",
       "      <th>No_of_Contracts_1M</th>\n",
       "      <th>No_of_Contracts_3M</th>\n",
       "      <th>PnL_1W</th>\n",
       "      <th>PnL_1M</th>\n",
       "      <th>PnL_3m</th>\n",
       "      <th>rf</th>\n",
       "      <th>0.065</th>\n",
       "    </tr>\n",
       "    <tr>\n",
       "      <th>Dates</th>\n",
       "      <th></th>\n",
       "      <th></th>\n",
       "      <th></th>\n",
       "      <th></th>\n",
       "      <th></th>\n",
       "      <th></th>\n",
       "      <th></th>\n",
       "      <th></th>\n",
       "      <th></th>\n",
       "      <th></th>\n",
       "      <th></th>\n",
       "      <th></th>\n",
       "      <th></th>\n",
       "      <th></th>\n",
       "      <th></th>\n",
       "      <th></th>\n",
       "      <th></th>\n",
       "      <th></th>\n",
       "      <th></th>\n",
       "      <th></th>\n",
       "      <th></th>\n",
       "    </tr>\n",
       "  </thead>\n",
       "  <tbody>\n",
       "    <tr>\n",
       "      <th>2018-05-10 13:01:00</th>\n",
       "      <td>3.5807</td>\n",
       "      <td>3.5807</td>\n",
       "      <td>0.019841</td>\n",
       "      <td>0.083333</td>\n",
       "      <td>0.250000</td>\n",
       "      <td>0.1394</td>\n",
       "      <td>0.1268</td>\n",
       "      <td>0.12865</td>\n",
       "      <td>-0.009930</td>\n",
       "      <td>-0.020350</td>\n",
       "      <td>...</td>\n",
       "      <td>0.000000</td>\n",
       "      <td>0.000000</td>\n",
       "      <td>0.000000</td>\n",
       "      <td>0.000000</td>\n",
       "      <td>0.000000</td>\n",
       "      <td>0.000000</td>\n",
       "      <td>0.000000</td>\n",
       "      <td>0.000000</td>\n",
       "      <td>r</td>\n",
       "      <td>0.020000</td>\n",
       "    </tr>\n",
       "    <tr>\n",
       "      <th>2018-05-10 13:02:00</th>\n",
       "      <td>3.5832</td>\n",
       "      <td>3.5807</td>\n",
       "      <td>0.019839</td>\n",
       "      <td>0.083331</td>\n",
       "      <td>0.249997</td>\n",
       "      <td>0.1394</td>\n",
       "      <td>0.1268</td>\n",
       "      <td>0.12865</td>\n",
       "      <td>0.005509</td>\n",
       "      <td>-0.012817</td>\n",
       "      <td>...</td>\n",
       "      <td>215367.853659</td>\n",
       "      <td>-70237.154317</td>\n",
       "      <td>-11.386719</td>\n",
       "      <td>-4.299198</td>\n",
       "      <td>1.402082</td>\n",
       "      <td>551043.759768</td>\n",
       "      <td>200379.549006</td>\n",
       "      <td>-50094.887252</td>\n",
       "      <td>Vol_fn_1W_a</td>\n",
       "      <td>-5.347997</td>\n",
       "    </tr>\n",
       "  </tbody>\n",
       "</table>\n",
       "<p>2 rows × 41 columns</p>\n",
       "</div>"
      ],
      "text/plain": [
       "                      Close  Strike   1W Maturity  1M Maturity  3M Maturity  \\\n",
       "Dates                                                                         \n",
       "2018-05-10 13:01:00  3.5807   3.5807     0.019841     0.083333     0.250000   \n",
       "2018-05-10 13:02:00  3.5832   3.5807     0.019839     0.083331     0.249997   \n",
       "\n",
       "                        V1W     V1M      V3M     d1_1w     d1_1m    ...     \\\n",
       "Dates                                                               ...      \n",
       "2018-05-10 13:01:00  0.1394  0.1268  0.12865 -0.009930 -0.020350    ...      \n",
       "2018-05-10 13:02:00  0.1394  0.1268  0.12865  0.005509 -0.012817    ...      \n",
       "\n",
       "                      Net_Delta_1M  Net_Delta_3M  No_of_Contracts_1W  \\\n",
       "Dates                                                                  \n",
       "2018-05-10 13:01:00       0.000000      0.000000            0.000000   \n",
       "2018-05-10 13:02:00  215367.853659 -70237.154317          -11.386719   \n",
       "\n",
       "                     No_of_Contracts_1M  No_of_Contracts_3M         PnL_1W  \\\n",
       "Dates                                                                        \n",
       "2018-05-10 13:01:00            0.000000            0.000000       0.000000   \n",
       "2018-05-10 13:02:00           -4.299198            1.402082  551043.759768   \n",
       "\n",
       "                            PnL_1M        PnL_3m           rf     0.065  \n",
       "Dates                                                                    \n",
       "2018-05-10 13:01:00       0.000000      0.000000            r  0.020000  \n",
       "2018-05-10 13:02:00  200379.549006 -50094.887252  Vol_fn_1W_a -5.347997  \n",
       "\n",
       "[2 rows x 41 columns]"
      ]
     },
     "execution_count": 72,
     "metadata": {},
     "output_type": "execute_result"
    }
   ],
   "source": [
    "data.head(2)    "
   ]
  },
  {
   "cell_type": "code",
   "execution_count": null,
   "metadata": {},
   "outputs": [],
   "source": [
    "    "
   ]
  },
  {
   "cell_type": "code",
   "execution_count": null,
   "metadata": {},
   "outputs": [],
   "source": []
  }
 ],
 "metadata": {
  "kernelspec": {
   "display_name": "Python 3",
   "language": "python",
   "name": "python3"
  },
  "language_info": {
   "codemirror_mode": {
    "name": "ipython",
    "version": 3
   },
   "file_extension": ".py",
   "mimetype": "text/x-python",
   "name": "python",
   "nbconvert_exporter": "python",
   "pygments_lexer": "ipython3",
   "version": "3.6.5"
  }
 },
 "nbformat": 4,
 "nbformat_minor": 2
}
