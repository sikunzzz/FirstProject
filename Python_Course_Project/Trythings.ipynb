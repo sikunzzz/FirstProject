{
 "cells": [
  {
   "cell_type": "code",
   "execution_count": 2,
   "metadata": {},
   "outputs": [],
   "source": [
    "import myfunc as mf"
   ]
  },
  {
   "cell_type": "code",
   "execution_count": 13,
   "metadata": {},
   "outputs": [
    {
     "data": {
      "text/plain": [
       "1833987328"
      ]
     },
     "execution_count": 13,
     "metadata": {},
     "output_type": "execute_result"
    }
   ],
   "source": [
    "b = mf.myfunc(3,4)\n",
    "id(b)"
   ]
  },
  {
   "cell_type": "code",
   "execution_count": 10,
   "metadata": {},
   "outputs": [
    {
     "data": {
      "text/plain": [
       "1833987328"
      ]
     },
     "execution_count": 10,
     "metadata": {},
     "output_type": "execute_result"
    }
   ],
   "source": [
    "a = eval('mf.myfunc(3,4)')\n",
    "id(a)"
   ]
  },
  {
   "cell_type": "code",
   "execution_count": 14,
   "metadata": {},
   "outputs": [],
   "source": [
    "import re"
   ]
  },
  {
   "cell_type": "code",
   "execution_count": 50,
   "metadata": {},
   "outputs": [],
   "source": [
    "str = \"The rain in Spainxfjf falls mainly in the plain!\"\n",
    "\n",
    "#Check if the string contains \"a\" followed by exactly two \"l\" characters:\n",
    "y = re.findall(\"nxx*\", str)\n",
    "x = re.findall(\"al{2}\", str)"
   ]
  },
  {
   "cell_type": "code",
   "execution_count": 51,
   "metadata": {},
   "outputs": [
    {
     "name": "stdout",
     "output_type": "stream",
     "text": [
      "['all']\n",
      "['nx']\n"
     ]
    }
   ],
   "source": [
    "print(x);print(y)"
   ]
  },
  {
   "cell_type": "code",
   "execution_count": 52,
   "metadata": {},
   "outputs": [
    {
     "name": "stdout",
     "output_type": "stream",
     "text": [
      "[]\n"
     ]
    }
   ],
   "source": [
    "str = \"The rain in Spain\"\n",
    "\n",
    "#Check if \"ain\" is present at the beginning of a WORD:\n",
    "\n",
    "x = re.findall(r\"\\bain\", str)\n",
    "\n",
    "print(x)"
   ]
  },
  {
   "cell_type": "code",
   "execution_count": 59,
   "metadata": {},
   "outputs": [
    {
     "name": "stdout",
     "output_type": "stream",
     "text": [
      "[1, 2, 3, 4]\n"
     ]
    }
   ],
   "source": [
    "a = [1,2,3,4]\n",
    "b = a\n",
    "print(b)\n",
    "b.append(9)"
   ]
  },
  {
   "cell_type": "code",
   "execution_count": 60,
   "metadata": {},
   "outputs": [],
   "source": [
    "b = [6,7]"
   ]
  },
  {
   "cell_type": "code",
   "execution_count": 61,
   "metadata": {},
   "outputs": [
    {
     "name": "stdout",
     "output_type": "stream",
     "text": [
      "[1, 2, 3, 4, 9]\n"
     ]
    }
   ],
   "source": [
    "print(a)"
   ]
  },
  {
   "cell_type": "code",
   "execution_count": 1,
   "metadata": {},
   "outputs": [],
   "source": [
    "import pandas as pd\n",
    "import numpy as np\n",
    "import matplotlib.pyplot as plt"
   ]
  },
  {
   "cell_type": "code",
   "execution_count": 2,
   "metadata": {},
   "outputs": [],
   "source": [
    "a = [1,2,3,4,5,6,7,8]"
   ]
  },
  {
   "cell_type": "code",
   "execution_count": 5,
   "metadata": {},
   "outputs": [
    {
     "data": {
      "text/plain": [
       "[2, 3, 4, 5, 6, 7, 8]"
      ]
     },
     "execution_count": 5,
     "metadata": {},
     "output_type": "execute_result"
    }
   ],
   "source": [
    "a[1:]"
   ]
  },
  {
   "cell_type": "code",
   "execution_count": 7,
   "metadata": {},
   "outputs": [
    {
     "data": {
      "text/plain": [
       "[1, 2, 3, 4, 5, 6, 7]"
      ]
     },
     "execution_count": 7,
     "metadata": {},
     "output_type": "execute_result"
    }
   ],
   "source": [
    "a[:-1]"
   ]
  },
  {
   "cell_type": "code",
   "execution_count": 8,
   "metadata": {},
   "outputs": [
    {
     "data": {
      "text/plain": [
       "[2, 3, 4, 5, 6, 7, 8]"
      ]
     },
     "execution_count": 8,
     "metadata": {},
     "output_type": "execute_result"
    }
   ],
   "source": [
    "a[1:]"
   ]
  },
  {
   "cell_type": "code",
   "execution_count": 10,
   "metadata": {},
   "outputs": [
    {
     "data": {
      "text/plain": [
       "[2, 3, 4, 5, 6, 7]"
      ]
     },
     "execution_count": 10,
     "metadata": {},
     "output_type": "execute_result"
    }
   ],
   "source": [
    "a[1:-1]"
   ]
  },
  {
   "cell_type": "code",
   "execution_count": 11,
   "metadata": {},
   "outputs": [
    {
     "data": {
      "text/plain": [
       "[8, 7, 6, 5, 4, 3, 2, 1]"
      ]
     },
     "execution_count": 11,
     "metadata": {},
     "output_type": "execute_result"
    }
   ],
   "source": [
    "a[::-1]"
   ]
  },
  {
   "cell_type": "code",
   "execution_count": 12,
   "metadata": {},
   "outputs": [
    {
     "data": {
      "text/plain": [
       "[1, 2, 3, 4, 5, 6, 7]"
      ]
     },
     "execution_count": 12,
     "metadata": {},
     "output_type": "execute_result"
    }
   ],
   "source": [
    "a[:-1]"
   ]
  },
  {
   "cell_type": "code",
   "execution_count": 13,
   "metadata": {},
   "outputs": [
    {
     "data": {
      "text/plain": [
       "7"
      ]
     },
     "execution_count": 13,
     "metadata": {},
     "output_type": "execute_result"
    }
   ],
   "source": [
    "a[-2]"
   ]
  },
  {
   "cell_type": "code",
   "execution_count": 32,
   "metadata": {},
   "outputs": [],
   "source": [
    "import datetime"
   ]
  },
  {
   "cell_type": "code",
   "execution_count": 4,
   "metadata": {},
   "outputs": [],
   "source": [
    "x = datetime.datetime.now()"
   ]
  },
  {
   "cell_type": "code",
   "execution_count": 22,
   "metadata": {},
   "outputs": [
    {
     "data": {
      "text/plain": [
       "True"
      ]
     },
     "execution_count": 22,
     "metadata": {},
     "output_type": "execute_result"
    }
   ],
   "source": [
    "x.strftime(\"%S\") == \"57\""
   ]
  },
  {
   "cell_type": "code",
   "execution_count": 20,
   "metadata": {},
   "outputs": [
    {
     "name": "stdout",
     "output_type": "stream",
     "text": [
      "2019-04-02 09:25:57.846534\n"
     ]
    }
   ],
   "source": [
    "print(x)"
   ]
  },
  {
   "cell_type": "code",
   "execution_count": 5,
   "metadata": {},
   "outputs": [],
   "source": [
    "import time\n"
   ]
  },
  {
   "cell_type": "code",
   "execution_count": 7,
   "metadata": {},
   "outputs": [],
   "source": [
    "dta = pd.read_excel(\"USDBRL_PriceHist.xlsx\", index_col=0)"
   ]
  },
  {
   "cell_type": "code",
   "execution_count": 27,
   "metadata": {},
   "outputs": [
    {
     "data": {
      "text/plain": [
       "'2019,04,02,09,47,48'"
      ]
     },
     "execution_count": 27,
     "metadata": {},
     "output_type": "execute_result"
    }
   ],
   "source": [
    "time.strftime(\"%Y,%m,%d,%H,%M,%S\")"
   ]
  },
  {
   "cell_type": "code",
   "execution_count": 4,
   "metadata": {},
   "outputs": [
    {
     "data": {
      "text/plain": [
       "13"
      ]
     },
     "execution_count": 4,
     "metadata": {},
     "output_type": "execute_result"
    }
   ],
   "source": [
    "dta.index[0].hour"
   ]
  },
  {
   "cell_type": "code",
   "execution_count": 5,
   "metadata": {},
   "outputs": [],
   "source": [
    "start_time = \"2018/05/15\""
   ]
  },
  {
   "cell_type": "code",
   "execution_count": 37,
   "metadata": {},
   "outputs": [],
   "source": [
    "start_time = datetime.datetime(2018, 5, 21)"
   ]
  },
  {
   "cell_type": "code",
   "execution_count": 20,
   "metadata": {},
   "outputs": [],
   "source": [
    "end_time = datetime.datetime(2018, 5, 21, 13,1)"
   ]
  },
  {
   "cell_type": "code",
   "execution_count": 21,
   "metadata": {},
   "outputs": [
    {
     "data": {
      "text/plain": [
       "True"
      ]
     },
     "execution_count": 21,
     "metadata": {},
     "output_type": "execute_result"
    }
   ],
   "source": [
    "start_time<= end_time"
   ]
  },
  {
   "cell_type": "code",
   "execution_count": 36,
   "metadata": {},
   "outputs": [],
   "source": [
    "Dates = dta.index"
   ]
  },
  {
   "cell_type": "code",
   "execution_count": 56,
   "metadata": {},
   "outputs": [],
   "source": [
    "selected = dta[np.logical_and(Dates.month == start_time.month, Dates.day == start_time.day)]"
   ]
  },
  {
   "cell_type": "code",
   "execution_count": null,
   "metadata": {},
   "outputs": [],
   "source": []
  },
  {
   "cell_type": "code",
   "execution_count": 52,
   "metadata": {},
   "outputs": [
    {
     "data": {
      "text/plain": [
       "[True, False]"
      ]
     },
     "execution_count": 52,
     "metadata": {},
     "output_type": "execute_result"
    }
   ],
   "source": [
    "a or b"
   ]
  },
  {
   "cell_type": "code",
   "execution_count": 43,
   "metadata": {},
   "outputs": [],
   "source": [
    "\n",
    "def daily_data_selector(dta, dates, start_date):\n",
    "    return dta[np.logical_and(dates.month == start_date.month, dates.day == start_date.day)]\n",
    "\n",
    "def option_price(s, tau, sigma, k, r, q):\n",
    "    d1 = (np.log(s/k) + (r - q + sigma**2/2)*tau)/(sigma*tau)\n",
    "    d2 = d1 - sigma*np.sqrt(tau)\n",
    "    return s*np.exp(-q*tau)*norm.cdf(d1) - k * np.exp(-r*tau)*norm.cdf(d2)\n",
    "\n",
    "\n",
    "def delta(s, tau, sigma, k, r, q):\n",
    "    d1 = (np.log(s/k) + (r - q + sigma**2/2)*tau)/(sigma*tau)\n",
    "    return np.exp(-q*tau) * norm.cdf(d1)\n",
    "\n",
    "def hedging_pnl(s, tau, sigma,k, r, q):\n",
    "\n",
    "    optionPV = option_price(s[:-1],tau[:-1],k,sigma[:-1],r,q)\n",
    "    repl_port = np.zeros((len(tau), ))\n",
    "    total_port = np.zeros((len(tau), ))\n",
    "    bankacc = np.zeros((len(tau), ))\n",
    "    delta_vec = delta(s[:-1], tau[:-1], k, sigma[:-1], r, q)\n",
    "\n",
    "    stock_pos = delta_vec[1:] * s[1:-1]\n",
    "    stock_pos_diff = stock_pos - delta_vec[:-1] * s[1:-1]\n",
    "    bankacc[0] = optionPV[0] - delta_vec[0]*s[0]\n",
    "    repl_port[0] = optionPV[0]\n",
    "    dt = np.diff(tau)\n",
    "\n",
    "    for t in range(len(dt)-1):\n",
    "        bankacc[t+1] = bankacc[t]*(1 + dt[t]*r) - stock_pos_diff[t] *(1-dt[t]*q)\n",
    "        repl_port[t+1] = stock_pos[t] + bankacc[t+1]\n",
    "        total_port[t+1] = optionPV[t+1] - repl_port[t+1] - bankacc[0]*(1 + r*dt[0])**tau[t+1]\n",
    "\n",
    "    optionPV = np.append(optionPV, np.max(s[-1] - k, 0))\n",
    "    bankacc[-1] = bankacc[-2]*(1+dt[-1]*r)\n",
    "    repl_port[-1] = delta_vec[-1]*s[-1] + bankacc[-1]\n",
    "    total_port[-1] = optionPV[-1] = repl_port[-1] - bankacc[0]* (1+ r*dt[0])**tau[-1]\n",
    "\n",
    "    return optionPV, repl_port, total_port\n"
   ]
  },
  {
   "cell_type": "code",
   "execution_count": 30,
   "metadata": {},
   "outputs": [],
   "source": [
    "def duration_data_selector(dta, duration):\n",
    "\n",
    "    if duration == \"1M\":\n",
    "        new_dta = dta[dta[\"1M Maturity\"]>=0]\n",
    "        return new_dta.index,new_dta[\"Close\"].values, new_dta[\"1M Maturity\"].values, new_dta[\"V1M\"].values\n",
    "    elif duration == \"3M\":\n",
    "        new_dta = dta[dta[\"3M Maturity\"]>=0]\n",
    "        return new_dta.index,new_dta[\"Close\"].values, new_dta[\"3M Maturity\"].values, new_dta[\"V3M\"].values\n",
    "    elif duration == \"1W\":\n",
    "        new_dta = dta[dta[\"1W Maturity\"]>=0]\n",
    "        return new_dta.index,new_dta[\"Close\"].values, new_dta[\"1W Maturity\"].values, new_dta[\"V1W\"].values\n",
    "\n",
    "\n"
   ]
  },
  {
   "cell_type": "code",
   "execution_count": 34,
   "metadata": {},
   "outputs": [
    {
     "name": "stdout",
     "output_type": "stream",
     "text": [
      "(2,)\n",
      "(2,)\n"
     ]
    },
    {
     "data": {
      "text/plain": [
       "array([7.1614, 7.1664])"
      ]
     },
     "execution_count": 34,
     "metadata": {},
     "output_type": "execute_result"
    }
   ],
   "source": [
    "Dates, s, tau, sigma = duration_data_selector(dta, \"1M\")\n",
    "from scipy.stats import norm\n",
    "s.shape\n",
    "\n",
    "a = np.ones((2,))*2\n",
    "s2 = s[0:2]\n",
    "print(s2.shape)\n",
    "print(a.shape)\n",
    "\n",
    "a*s2"
   ]
  },
  {
   "cell_type": "code",
   "execution_count": 32,
   "metadata": {},
   "outputs": [],
   "source": [
    "op, rep, total = hedging_pnl( s, tau, sigma, s[0],  0.065, 0.02)"
   ]
  },
  {
   "cell_type": "code",
   "execution_count": 186,
   "metadata": {},
   "outputs": [
    {
     "name": "stderr",
     "output_type": "stream",
     "text": [
      "C:\\Users\\canze\\AppData\\Local\\Continuum\\anaconda3\\lib\\site-packages\\ipykernel_launcher.py:12: RuntimeWarning: divide by zero encountered in true_divide\n",
      "  if sys.path[0] == '':\n"
     ]
    },
    {
     "data": {
      "text/plain": [
       "array([1.        , 0.99999989, 0.99999978, ..., 0.64152606, 0.63658864,\n",
       "       0.68478663])"
      ]
     },
     "execution_count": 186,
     "metadata": {},
     "output_type": "execute_result"
    }
   ],
   "source": [
    "d = delta(s, tau, sigma, s[0], 0.065, 0.02)\n",
    "d[::-2]"
   ]
  },
  {
   "cell_type": "code",
   "execution_count": 120,
   "metadata": {},
   "outputs": [],
   "source": [
    "arr = dta2.T.values[0]"
   ]
  },
  {
   "cell_type": "code",
   "execution_count": 122,
   "metadata": {},
   "outputs": [],
   "source": [
    "arr = arr[0:5]"
   ]
  },
  {
   "cell_type": "code",
   "execution_count": 123,
   "metadata": {},
   "outputs": [],
   "source": [
    "arr2 = np.ones((5,1))"
   ]
  },
  {
   "cell_type": "code",
   "execution_count": 126,
   "metadata": {},
   "outputs": [
    {
     "data": {
      "text/plain": [
       "array([[1.    , 3.5832, 3.5787, 3.5782, 3.5789],\n",
       "       [1.    , 3.5832, 3.5787, 3.5782, 3.5789],\n",
       "       [1.    , 3.5832, 3.5787, 3.5782, 3.5789],\n",
       "       [1.    , 3.5832, 3.5787, 3.5782, 3.5789],\n",
       "       [1.    , 3.5832, 3.5787, 3.5782, 3.5789]])"
      ]
     },
     "execution_count": 126,
     "metadata": {},
     "output_type": "execute_result"
    }
   ],
   "source": [
    "arr*arr2"
   ]
  },
  {
   "cell_type": "code",
   "execution_count": 201,
   "metadata": {},
   "outputs": [
    {
     "data": {
      "text/plain": [
       "11320"
      ]
     },
     "execution_count": 201,
     "metadata": {},
     "output_type": "execute_result"
    }
   ],
   "source": [
    "len(rep)"
   ]
  },
  {
   "cell_type": "code",
   "execution_count": 202,
   "metadata": {},
   "outputs": [],
   "source": [
    "a = np.array([1,2,3])"
   ]
  },
  {
   "cell_type": "code",
   "execution_count": 203,
   "metadata": {},
   "outputs": [
    {
     "data": {
      "text/plain": [
       "array([1, 2, 3, 4])"
      ]
     },
     "execution_count": 203,
     "metadata": {},
     "output_type": "execute_result"
    }
   ],
   "source": [
    "np.append(a, 4)"
   ]
  },
  {
   "cell_type": "code",
   "execution_count": 33,
   "metadata": {},
   "outputs": [
    {
     "data": {
      "text/plain": [
       "[<matplotlib.lines.Line2D at 0x1cf30b2d208>]"
      ]
     },
     "execution_count": 33,
     "metadata": {},
     "output_type": "execute_result"
    },
    {
     "data": {
      "image/png": "[encoded data removed]",
      "text/plain": [
       "<Figure size 432x288 with 1 Axes>"
      ]
     },
     "metadata": {},
     "output_type": "display_data"
    }
   ],
   "source": [
    "plt.plot(Dates,total)"
   ]
  },
  {
   "cell_type": "code",
   "execution_count": 62,
   "metadata": {},
   "outputs": [],
   "source": [
    "def intra_day_volatility(dta, dates, start_date):\n",
    "    new_dta = daily_data_selector(dta, dates, start_date)\n",
    "    close_p = new_dta[\"Close\"]\n",
    "    print(close_p[1]/close_p[0]-1)\n",
    "    return np.sqrt(252*8*60)*np.std(close_p[1:]/close_p[:-1]-1)\n",
    "   "
   ]
  },
  {
   "cell_type": "code",
   "execution_count": 63,
   "metadata": {},
   "outputs": [
    {
     "name": "stdout",
     "output_type": "stream",
     "text": [
      "0.001645979492714611\n"
     ]
    },
    {
     "data": {
      "text/plain": [
       "0.0"
      ]
     },
     "execution_count": 63,
     "metadata": {},
     "output_type": "execute_result"
    }
   ],
   "source": [
    "intra_day_volatility(dta, Dates, start_time)"
   ]
  },
  {
   "cell_type": "code",
   "execution_count": 8,
   "metadata": {},
   "outputs": [],
   "source": [
    "import numpy as np\n",
    "import math"
   ]
  },
  {
   "cell_type": "code",
   "execution_count": 4,
   "metadata": {},
   "outputs": [],
   "source": [
    "x = np.linspace(0, 2 * math.pi, 1000).reshape(-1, 1)\n"
   ]
  },
  {
   "cell_type": "code",
   "execution_count": 6,
   "metadata": {},
   "outputs": [
    {
     "data": {
      "text/plain": [
       "(1000, 1)"
      ]
     },
     "execution_count": 6,
     "metadata": {},
     "output_type": "execute_result"
    }
   ],
   "source": [
    "x.shape"
   ]
  },
  {
   "cell_type": "code",
   "execution_count": 2,
   "metadata": {},
   "outputs": [],
   "source": [
    "a = np.array([])"
   ]
  },
  {
   "cell_type": "code",
   "execution_count": 3,
   "metadata": {},
   "outputs": [
    {
     "data": {
      "text/plain": [
       "array([3.])"
      ]
     },
     "execution_count": 3,
     "metadata": {},
     "output_type": "execute_result"
    }
   ],
   "source": [
    "np.append(a, 3)"
   ]
  },
  {
   "cell_type": "code",
   "execution_count": 4,
   "metadata": {},
   "outputs": [
    {
     "data": {
      "text/plain": [
       "array([], dtype=float64)"
      ]
     },
     "execution_count": 4,
     "metadata": {},
     "output_type": "execute_result"
    }
   ],
   "source": [
    "a"
   ]
  },
  {
   "cell_type": "code",
   "execution_count": 7,
   "metadata": {},
   "outputs": [],
   "source": [
    "def try_args(*args):\n",
    "    print(args)\n",
    "\n",
    "    "
   ]
  },
  {
   "cell_type": "code",
   "execution_count": 8,
   "metadata": {},
   "outputs": [
    {
     "name": "stdout",
     "output_type": "stream",
     "text": [
      "[1, 2, 3, 4, 5]\n"
     ]
    }
   ],
   "source": [
    "try_args([1,2,3,4,5])"
   ]
  },
  {
   "cell_type": "code",
   "execution_count": 5,
   "metadata": {},
   "outputs": [],
   "source": [
    "class base1:\n",
    "    def __init__(self, x):\n",
    "        self.x = x\n",
    "        \n",
    "    def sum_two(self):\n",
    "        return self.x + self.y\n",
    "    \n",
    "class base2(base1):\n",
    "    def __init__(self,x,y):\n",
    "        super().__init__(x)\n",
    "        self.y = y \n",
    "        \n",
    "    def print_out(self):\n",
    "        return self.sum_two()\n",
    "        \n",
    "        "
   ]
  },
  {
   "cell_type": "code",
   "execution_count": 7,
   "metadata": {},
   "outputs": [],
   "source": [
    "b = base2(2,8)"
   ]
  },
  {
   "cell_type": "code",
   "execution_count": 8,
   "metadata": {},
   "outputs": [
    {
     "data": {
      "text/plain": [
       "10"
      ]
     },
     "execution_count": 8,
     "metadata": {},
     "output_type": "execute_result"
    }
   ],
   "source": [
    "b.print_out()"
   ]
  },
  {
   "cell_type": "code",
   "execution_count": 2,
   "metadata": {},
   "outputs": [],
   "source": [
    "repl_port = np.array([])"
   ]
  },
  {
   "cell_type": "code",
   "execution_count": 5,
   "metadata": {},
   "outputs": [],
   "source": [
    "repl_port = np.append( repl_port, 2)"
   ]
  },
  {
   "cell_type": "raw",
   "metadata": {},
   "source": []
  },
  {
   "cell_type": "code",
   "execution_count": 6,
   "metadata": {},
   "outputs": [
    {
     "data": {
      "text/plain": [
       "array([2.])"
      ]
     },
     "execution_count": 6,
     "metadata": {},
     "output_type": "execute_result"
    }
   ],
   "source": [
    "repl_port"
   ]
  },
  {
   "cell_type": "code",
   "execution_count": 15,
   "metadata": {},
   "outputs": [],
   "source": [
    "from scipy.stats import norm\n",
    "def duration_data_selector(dta, duration):\n",
    "\n",
    "    if duration == \"1M\":\n",
    "        new_dta = dta[dta[\"1M Maturity\"]>=0]\n",
    "        return new_dta.index, new_dta[\"Close\"].values, new_dta[\"1M Maturity\"].values, new_dta[\"V1M\"].values\n",
    "    elif duration == \"3M\":\n",
    "        new_dta = dta[dta[\"3M Maturity\"]>=0]\n",
    "        return new_dta.index, new_dta[\"Close\"].values, new_dta[\"3M Maturity\"].values, new_dta[\"V3M\"].values\n",
    "    elif duration == \"1W\":\n",
    "        new_dta = dta[dta[\"1W Maturity\"]>=0]\n",
    "        return new_dta.index, new_dta[\"Close\"].values, new_dta[\"1W Maturity\"].values, new_dta[\"V1W\"].values\n",
    "\n",
    "\n",
    "\n",
    "def hedging_pnl(s, tau, sigma,k, r, q):\n",
    "\n",
    "    optionPV = option_price(s[:-1],tau[:-1],k,sigma[:-1],r,q)\n",
    "    repl_port = np.zeros((len(tau), 1))\n",
    "    total_port = np.zeros((len(tau), 1))\n",
    "    bankacc = np.zeros((len(tau), 1))\n",
    "    delta_vec = delta(s[:-1], tau[:-1], k, sigma[:-1], r, q)\n",
    "\n",
    "    stock_pos = delta_vec[1:] * s[1:-1]\n",
    "    stock_pos_diff = stock_pos - delta_vec[:-1] * s[1:-1]\n",
    "    bankacc[0] = optionPV[0] - delta_vec[0]*s[0]\n",
    "    repl_port[0] = optionPV[0]\n",
    "    dt = np.diff(tau)\n",
    "\n",
    "    for t in range(len(dt)-1):\n",
    "        bankacc[t+1] = bankacc[t]*(1 + dt[t]*r) - stock_pos_diff[t] *(1-dt[t]*q)\n",
    "        repl_port[t+1] = stock_pos[t] + bankacc[t+1]\n",
    "        total_port[t+1] = optionPV[t+1] - repl_port[t+1] - bankacc[0]*(1 + r*dt[0])**tau[t+1]\n",
    "\n",
    "    optionPV = np.append(optionPV, np.max(s[-1] - k, 0))\n",
    "    bankacc[-1] = bankacc[-2]*(1+dt[-1]*r)\n",
    "    repl_port[-1] = delta_vec[-1]*s[-1] + bankacc[-1]\n",
    "    total_port[-1] = optionPV[-1] - repl_port[-1] - bankacc[0]* (1+ r*dt[0])**tau[-1]\n",
    "\n",
    "    return optionPV, repl_port, total_port\n",
    "\n",
    "\n",
    "def option_price(s, tau, sigma, k, r, q):\n",
    "    d1 = (np.log(s/k) + (r - q + sigma**2/2)*tau)/(sigma*tau)\n",
    "    d2 = d1 - sigma*np.sqrt(tau)\n",
    "    return s*np.exp(-q*tau)*norm.cdf(d1) - k * np.exp(-r*tau)*norm.cdf(d2)\n",
    "\n",
    "\n",
    "def delta(s, tau, sigma, k, r, q):\n",
    "    d1 = (np.log(s/k) + (r - q + sigma**2/2)*tau)/(sigma*tau)\n",
    "    return np.exp(-q*tau) * norm.cdf(d1)\n",
    "\n"
   ]
  },
  {
   "cell_type": "code",
   "execution_count": 8,
   "metadata": {},
   "outputs": [],
   "source": [
    "df = pd.read_excel(\"USDBRL_PriceHist.xlsx\", index_col= 0)\n"
   ]
  },
  {
   "cell_type": "code",
   "execution_count": 16,
   "metadata": {},
   "outputs": [],
   "source": [
    "dates, s, tau, sigma = duration_data_selector(df, \"1M\")\n",
    "opPV, repPV, totalPV = hedging_pnl(s, tau, sigma, s[0], 0.065, 0.02)"
   ]
  },
  {
   "cell_type": "code",
   "execution_count": 24,
   "metadata": {},
   "outputs": [
    {
     "data": {
      "text/plain": [
       "[<matplotlib.lines.Line2D at 0x1a22449d4e0>]"
      ]
     },
     "execution_count": 24,
     "metadata": {},
     "output_type": "execute_result"
    },
    {
     "data": {
      "image/png": "[encoded data removed]",
      "text/plain": [
       "<Figure size 432x288 with 1 Axes>"
      ]
     },
     "metadata": {},
     "output_type": "display_data"
    }
   ],
   "source": [
    "plt.plot(dates[1:-1], totalPV[1:-1])"
   ]
  },
  {
   "cell_type": "code",
   "execution_count": 38,
   "metadata": {},
   "outputs": [],
   "source": [
    "\n",
    "def hedging_pnl_delta_band( s, tau, sigma, k, r, q, bound, func ):\n",
    "    optionPV = option_price(s[:-1],tau[:-1],k,sigma[:-1],r,q)\n",
    "    delta_vec = func(s[:-1], tau[:-1], k, sigma[:-1], r, q)\n",
    "\n",
    "    repl_port = np.array([])\n",
    "    total_port = np.array([])\n",
    "    bankacc = np.array([])\n",
    "\n",
    "    repl_port = np.append( repl_port, optionPV[0])\n",
    "    total_port = np.append( total_port, 0)\n",
    "    bankacc = np.append( bankacc, optionPV[0] - s[0]*delta_vec[0])\n",
    "    delta_diff = np.diff(delta_vec)\n",
    "    cumulate_delta = 0\n",
    "    time_stamp = 0\n",
    "    stock_index =  0\n",
    "    dt = tau[1] - tau[0]\n",
    "\n",
    "    for i, t in enumerate(tau[1:-1]):\n",
    "        cumulate_delta += delta_diff[i]\n",
    "        if cumulate_delta >= bound:\n",
    "            stock_pos = (s[i+1]  - s[stock_index]) * cumulate_delta\n",
    "            bankacc = np.append(bankacc, bankacc[-1]*(1 + (t-time_stamp)*r) - stock_pos*( 1- (t - time_stamp)*q))\n",
    "            repl_port = np.append(repl_port, bankacc[-1] + delta_vec[i+1] * s[i+1] )\n",
    "            total_port = np.append( total_port,  optionPV[i+1] - repl_port[-1] - bankacc[0] * ( 1 + dt*r)**t)\n",
    "            cumulate_delta = 0\n",
    "            time_stamp = t\n",
    "\n",
    "    stock_pos = s[-1] - s[stock_index] * cumulate_delta\n",
    "    optionPV = np.append(optionPV, np.max(s[-1] - k, 0))\n",
    "    bankacc = np.append(bankacc, bankacc[-1]*(1 + (t-time_stamp)*r) - stock_pos*( 1- (t - time_stamp)*q))\n",
    "    repl_port = np.append(repl_port, bankacc[-1] + delta_vec[-1] * s[-1] )\n",
    "    total_port = np.append(total_port, optionPV[-1] - repl_port[-1] - bankacc[0] * ( 1 + dt*r)**tau[-1])\n",
    "\n",
    "\n",
    "    return optionPV, repl_port, total_port\n"
   ]
  },
  {
   "cell_type": "code",
   "execution_count": 51,
   "metadata": {},
   "outputs": [],
   "source": [
    "def vega(s, tau, sigma, k, r, q):\n",
    "    d1 = (np.log(s/k) + (r - q + sigma**2/2)*tau)/(sigma*tau)\n",
    "    return s*np.exp(-q*tau)*norm.pdf(d1)*np.sqrt(tau)\n",
    "\n"
   ]
  },
  {
   "cell_type": "raw",
   "metadata": {},
   "source": []
  },
  {
   "cell_type": "code",
   "execution_count": 58,
   "metadata": {},
   "outputs": [],
   "source": [
    "opPV, repPV, totalPV = hedging_pnl_delta_band(s, tau, sigma, s[0], 0.065, 0.02, 0.1, vega)"
   ]
  },
  {
   "cell_type": "code",
   "execution_count": 59,
   "metadata": {
    "scrolled": true
   },
   "outputs": [
    {
     "data": {
      "text/plain": [
       "[<matplotlib.lines.Line2D at 0x1a225675e80>]"
      ]
     },
     "execution_count": 59,
     "metadata": {},
     "output_type": "execute_result"
    },
    {
     "data": {
      "image/png": "[encoded data removed]",
      "text/plain": [
       "<Figure size 432x288 with 1 Axes>"
      ]
     },
     "metadata": {},
     "output_type": "display_data"
    }
   ],
   "source": [
    "vega(s[:-1], tau[:-1], k, sigma[:-1], r, q)"
   ]
  },
  {
   "cell_type": "code",
   "execution_count": 4,
   "metadata": {},
   "outputs": [
    {
     "name": "stdout",
     "output_type": "stream",
     "text": [
      "2019-04-06 21:26:03.763105\n"
     ]
    }
   ],
   "source": [
    "base = datetime.datetime.today()\n",
    "print(base)"
   ]
  },
  {
   "cell_type": "code",
   "execution_count": 7,
   "metadata": {},
   "outputs": [
    {
     "name": "stdout",
     "output_type": "stream",
     "text": [
      "2019-04-05 21:26:03.763105\n"
     ]
    }
   ],
   "source": [
    "print(base - datetime.timedelta(days=1))"
   ]
  },
  {
   "cell_type": "code",
   "execution_count": 14,
   "metadata": {},
   "outputs": [
    {
     "data": {
      "text/plain": [
       "Dates\n",
       "2018-05-10 13:01:00    0.250000\n",
       "2018-05-10 13:02:00    0.249997\n",
       "2018-05-10 13:03:00    0.249994\n",
       "2018-05-10 13:04:00    0.249992\n",
       "2018-05-10 13:05:00    0.249989\n",
       "2018-05-10 13:06:00    0.249986\n",
       "2018-05-10 13:07:00    0.249983\n",
       "2018-05-10 13:08:00    0.249981\n",
       "2018-05-10 13:09:00    0.249978\n",
       "2018-05-10 13:10:00    0.249975\n",
       "2018-05-10 13:11:00    0.249972\n",
       "2018-05-10 13:13:00    0.249970\n",
       "2018-05-10 13:14:00    0.249967\n",
       "2018-05-10 13:15:00    0.249964\n",
       "2018-05-10 13:16:00    0.249961\n",
       "2018-05-10 13:17:00    0.249959\n",
       "2018-05-10 13:18:00    0.249956\n",
       "2018-05-10 13:19:00    0.249953\n",
       "2018-05-10 13:20:00    0.249950\n",
       "2018-05-10 13:21:00    0.249948\n",
       "2018-05-10 13:22:00    0.249945\n",
       "2018-05-10 13:23:00    0.249942\n",
       "2018-05-10 13:24:00    0.249939\n",
       "2018-05-10 13:25:00    0.249937\n",
       "2018-05-10 13:26:00    0.249934\n",
       "2018-05-10 13:27:00    0.249931\n",
       "2018-05-10 13:28:00    0.249928\n",
       "2018-05-10 13:29:00    0.249926\n",
       "2018-05-10 13:30:00    0.249923\n",
       "2018-05-10 13:31:00    0.249920\n",
       "                         ...   \n",
       "2018-08-24 21:28:00         NaN\n",
       "2018-08-24 21:29:00         NaN\n",
       "2018-08-24 21:30:00         NaN\n",
       "2018-08-24 21:31:00         NaN\n",
       "2018-08-24 21:32:00         NaN\n",
       "2018-08-24 21:33:00         NaN\n",
       "2018-08-24 21:34:00         NaN\n",
       "2018-08-24 21:36:00         NaN\n",
       "2018-08-24 21:37:00         NaN\n",
       "2018-08-24 21:38:00         NaN\n",
       "2018-08-24 21:39:00         NaN\n",
       "2018-08-24 21:40:00         NaN\n",
       "2018-08-24 21:41:00         NaN\n",
       "2018-08-24 21:43:00         NaN\n",
       "2018-08-24 21:44:00         NaN\n",
       "2018-08-24 21:45:00         NaN\n",
       "2018-08-24 21:46:00         NaN\n",
       "2018-08-24 21:47:00         NaN\n",
       "2018-08-24 21:48:00         NaN\n",
       "2018-08-24 21:49:00         NaN\n",
       "2018-08-24 21:50:00         NaN\n",
       "2018-08-24 21:51:00         NaN\n",
       "2018-08-24 21:52:00         NaN\n",
       "2018-08-24 21:53:00         NaN\n",
       "2018-08-24 21:54:00         NaN\n",
       "2018-08-24 21:55:00         NaN\n",
       "2018-08-24 21:56:00         NaN\n",
       "2018-08-24 21:57:00         NaN\n",
       "2018-08-24 21:58:00         NaN\n",
       "2018-08-24 21:59:00         NaN\n",
       "Name: 3M Maturity, Length: 39892, dtype: float64"
      ]
     },
     "execution_count": 14,
     "metadata": {},
     "output_type": "execute_result"
    }
   ],
   "source": [
    "df[\"3M Maturity\"]"
   ]
  },
  {
   "cell_type": "code",
   "execution_count": 31,
   "metadata": {},
   "outputs": [],
   "source": [
    "testing = pd.date_range(start = df[df[\"3M Maturity\"].isna()].index[0].normalize(), end = df[df[\"3M Maturity\"].isna()].index[-1].normalize())"
   ]
  },
  {
   "cell_type": "code",
   "execution_count": 45,
   "metadata": {},
   "outputs": [
    {
     "ename": "ValueError",
     "evalue": "Cannot add integral value to Timestamp without freq.",
     "output_type": "error",
     "traceback": [
      "\u001b[1;31m---------------------------------------------------------------------------\u001b[0m",
      "\u001b[1;31mValueError\u001b[0m                                Traceback (most recent call last)",
      "\u001b[1;32m<ipython-input-45-7d8a21f8733e>\u001b[0m in \u001b[0;36m<module>\u001b[1;34m()\u001b[0m\n\u001b[1;32m----> 1\u001b[1;33m \u001b[0mdf\u001b[0m\u001b[1;33m[\u001b[0m\u001b[0mdf\u001b[0m\u001b[1;33m[\u001b[0m\u001b[1;34m\"3M Maturity\"\u001b[0m\u001b[1;33m]\u001b[0m\u001b[1;33m.\u001b[0m\u001b[0misna\u001b[0m\u001b[1;33m(\u001b[0m\u001b[1;33m)\u001b[0m\u001b[1;33m]\u001b[0m\u001b[1;33m.\u001b[0m\u001b[0mindex\u001b[0m\u001b[1;33m[\u001b[0m\u001b[1;36m0\u001b[0m\u001b[1;33m]\u001b[0m\u001b[1;33m.\u001b[0m\u001b[0mnormalize\u001b[0m\u001b[1;33m(\u001b[0m\u001b[1;33m)\u001b[0m\u001b[1;33m-\u001b[0m\u001b[1;36m1\u001b[0m\u001b[1;33m\u001b[0m\u001b[0m\n\u001b[0m",
      "\u001b[1;32mpandas\\_libs\\tslibs\\timestamps.pyx\u001b[0m in \u001b[0;36mpandas._libs.tslibs.timestamps._Timestamp.__sub__\u001b[1;34m()\u001b[0m\n",
      "\u001b[1;32mpandas\\_libs\\tslibs\\timestamps.pyx\u001b[0m in \u001b[0;36mpandas._libs.tslibs.timestamps._Timestamp.__add__\u001b[1;34m()\u001b[0m\n",
      "\u001b[1;31mValueError\u001b[0m: Cannot add integral value to Timestamp without freq."
     ]
    }
   ],
   "source": [
    "df[df[\"3M Maturity\"].isna()].index[0].normalize()-1"
   ]
  },
  {
   "cell_type": "code",
   "execution_count": 40,
   "metadata": {},
   "outputs": [],
   "source": [
    "Dates = df.index"
   ]
  },
  {
   "cell_type": "code",
   "execution_count": 48,
   "metadata": {},
   "outputs": [
    {
     "data": {
      "text/plain": [
       "DatetimeIndex(['2018-05-10', '2018-05-11', '2018-05-14', '2018-05-15',\n",
       "               '2018-05-16', '2018-05-17', '2018-05-18', '2018-05-21',\n",
       "               '2018-05-22', '2018-05-23', '2018-05-24', '2018-05-25',\n",
       "               '2018-05-28', '2018-05-29', '2018-05-30', '2018-06-01',\n",
       "               '2018-06-04', '2018-06-05', '2018-06-06', '2018-06-07',\n",
       "               '2018-06-08', '2018-06-11', '2018-06-12', '2018-06-13',\n",
       "               '2018-06-14', '2018-06-15', '2018-06-18', '2018-06-19',\n",
       "               '2018-06-20', '2018-06-21', '2018-06-22', '2018-06-25',\n",
       "               '2018-06-26', '2018-06-27', '2018-06-28', '2018-06-29',\n",
       "               '2018-07-02', '2018-07-03', '2018-07-04', '2018-07-05',\n",
       "               '2018-07-06', '2018-07-09', '2018-07-10', '2018-07-11',\n",
       "               '2018-07-12', '2018-07-13', '2018-07-16', '2018-07-17',\n",
       "               '2018-07-18', '2018-07-19', '2018-07-20', '2018-07-23',\n",
       "               '2018-07-24', '2018-07-25', '2018-07-26', '2018-07-27',\n",
       "               '2018-07-30', '2018-07-31', '2018-08-01', '2018-08-02',\n",
       "               '2018-08-03', '2018-08-06', '2018-08-07', '2018-08-08',\n",
       "               '2018-08-09', '2018-08-10', '2018-08-13', '2018-08-14',\n",
       "               '2018-08-15', '2018-08-16', '2018-08-17', '2018-08-20',\n",
       "               '2018-08-21', '2018-08-22', '2018-08-23', '2018-08-24'],\n",
       "              dtype='datetime64[ns]', name='Dates', freq=None)"
      ]
     },
     "execution_count": 48,
     "metadata": {},
     "output_type": "execute_result"
    }
   ],
   "source": [
    "Dates.normalize().unique()"
   ]
  },
  {
   "cell_type": "code",
   "execution_count": null,
   "metadata": {},
   "outputs": [],
   "source": []
  }
 ],
 "metadata": {
  "kernelspec": {
   "display_name": "Python 3",
   "language": "python",
   "name": "python3"
  },
  "language_info": {
   "codemirror_mode": {
    "name": "ipython",
    "version": 3
   },
   "file_extension": ".py",
   "mimetype": "text/x-python",
   "name": "python",
   "nbconvert_exporter": "python",
   "pygments_lexer": "ipython3",
   "version": "3.6.5"
  }
 },
 "nbformat": 4,
 "nbformat_minor": 2
}
